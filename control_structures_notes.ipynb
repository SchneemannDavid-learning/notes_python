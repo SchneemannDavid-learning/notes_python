{
 "cells": [
  {
   "cell_type": "markdown",
   "metadata": {},
   "source": [
    "## Control Structures"
   ]
  },
  {
   "cell_type": "markdown",
   "metadata": {},
   "source": [
    "Conditionals: \n",
    "\n",
    "if this then that"
   ]
  },
  {
   "cell_type": "code",
   "execution_count": 1,
   "metadata": {},
   "outputs": [],
   "source": [
    "# if some condition is true:\n",
    "    # execute this code\n"
   ]
  },
  {
   "cell_type": "code",
   "execution_count": 3,
   "metadata": {},
   "outputs": [
    {
     "name": "stdout",
     "output_type": "stream",
     "text": [
      "The number is even\n",
      "Complete\n"
     ]
    }
   ],
   "source": [
    "x = 6\n",
    "\n",
    "r = x % 2\n",
    "\n",
    "if r == 0:\n",
    "    print('The number is even')\n",
    "#    print('Greetings!')\n",
    "\n",
    "print('Complete')"
   ]
  },
  {
   "cell_type": "markdown",
   "metadata": {},
   "source": [
    "If this then that, Otherwise"
   ]
  },
  {
   "cell_type": "code",
   "execution_count": 4,
   "metadata": {},
   "outputs": [
    {
     "name": "stdout",
     "output_type": "stream",
     "text": [
      "the number is odd\n",
      "Complete\n"
     ]
    }
   ],
   "source": [
    "x = 5\n",
    "\n",
    "r = x % 2\n",
    "\n",
    "if r == 0:\n",
    "    print('The number is even')\n",
    "\n",
    "else:\n",
    "    print('the number is odd')\n",
    "\n",
    "print('Complete')"
   ]
  },
  {
   "cell_type": "code",
   "execution_count": 5,
   "metadata": {},
   "outputs": [
    {
     "name": "stdout",
     "output_type": "stream",
     "text": [
      "the number is odd\n",
      "Complete\n"
     ]
    }
   ],
   "source": [
    "\n",
    "# another way... not a good idea\n",
    "\n",
    "x = 5\n",
    "\n",
    "r = x % 2\n",
    "\n",
    "if r == 0:\n",
    "    print('The number is even')\n",
    "\n",
    "if r == 1:\n",
    "    print('the number is odd')\n",
    "\n",
    "print('Complete')\n",
    "\n",
    "# the second 'if' statement is unnecessary; "
   ]
  },
  {
   "cell_type": "code",
   "execution_count": 6,
   "metadata": {},
   "outputs": [
    {
     "name": "stdout",
     "output_type": "stream",
     "text": [
      "This number is greater than 2\n",
      "The number is even\n",
      "Complete\n"
     ]
    }
   ],
   "source": [
    "# Nested ifs:\n",
    "\n",
    "x = 6\n",
    "\n",
    "r = x % 2\n",
    "\n",
    "if r == 0:\n",
    "    if x > 2:\n",
    "        print('This number is greater than 2')\n",
    "    else:\n",
    "        print('This number is less than equal to 2')\n",
    "        \n",
    "    print('The number is even')\n",
    "\n",
    "else:\n",
    "    print('the number is odd')\n",
    "\n",
    "print('Complete')"
   ]
  },
  {
   "cell_type": "code",
   "execution_count": 7,
   "metadata": {},
   "outputs": [
    {
     "name": "stdout",
     "output_type": "stream",
     "text": [
      "TWO\n"
     ]
    }
   ],
   "source": [
    "# Example: one method... but not efficient!\n",
    "\n",
    "# 1 == > ONE\n",
    "# 2 --> TWO\n",
    "# 3 ==> THREE\n",
    "# >4 --> Huraay!\n",
    "\n",
    "x = 2\n",
    "\n",
    "if x == 1:\n",
    "    print('ONE')\n",
    "\n",
    "if x == 2:\n",
    "    print('TWO')\n",
    "\n",
    "if x == 3:\n",
    "    print('THREE')\n",
    "\n",
    "if x == 4:\n",
    "    print('FOUR')\n"
   ]
  },
  {
   "cell_type": "code",
   "execution_count": 8,
   "metadata": {},
   "outputs": [
    {
     "name": "stdout",
     "output_type": "stream",
     "text": [
      "TWO\n"
     ]
    }
   ],
   "source": [
    "# Example: better method!\n",
    "\n",
    "# 1 == > ONE\n",
    "# 2 --> TWO\n",
    "# 3 ==> THREE\n",
    "# >4 --> Huraay!\n",
    "\n",
    "x = 2\n",
    "\n",
    "if x == 1:\n",
    "    print('ONE')\n",
    "\n",
    "elif x == 2:\n",
    "    print('TWO')\n",
    "\n",
    "elif x == 3:\n",
    "    print('THREE')\n",
    "\n",
    "else:\n",
    "    print('FOUR')"
   ]
  },
  {
   "cell_type": "markdown",
   "metadata": {},
   "source": [
    "## Loops\n",
    "\n",
    "`for` for running a block of code a set number of times  \n",
    "`while` for running a block of code until a condition is met"
   ]
  },
  {
   "cell_type": "code",
   "execution_count": 9,
   "metadata": {},
   "outputs": [
    {
     "name": "stdout",
     "output_type": "stream",
     "text": [
      "2\n",
      "4\n",
      "6\n",
      "8\n",
      "10\n",
      "12\n"
     ]
    }
   ],
   "source": [
    "l = [1,2,3,4,5,6]\n",
    "\n",
    "for num in l:\n",
    "    #execute this code\n",
    "    print(num * 2)\n",
    "\n",
    "    "
   ]
  },
  {
   "cell_type": "markdown",
   "metadata": {},
   "source": [
    "### print whether number is odd or even"
   ]
  },
  {
   "cell_type": "code",
   "execution_count": 11,
   "metadata": {},
   "outputs": [
    {
     "data": {
      "text/plain": [
       "range(0, 21)"
      ]
     },
     "execution_count": 11,
     "metadata": {},
     "output_type": "execute_result"
    }
   ],
   "source": [
    "range(0, 21)\n"
   ]
  },
  {
   "cell_type": "code",
   "execution_count": 10,
   "metadata": {},
   "outputs": [
    {
     "data": {
      "text/plain": [
       "[1, 2, 3, 4, 5, 6, 7, 8, 9, 10, 11, 12, 13, 14, 15, 16, 17, 18, 19, 20]"
      ]
     },
     "execution_count": 10,
     "metadata": {},
     "output_type": "execute_result"
    }
   ],
   "source": [
    "list(range(1,21))"
   ]
  },
  {
   "cell_type": "code",
   "execution_count": 13,
   "metadata": {},
   "outputs": [
    {
     "name": "stdout",
     "output_type": "stream",
     "text": [
      "1 Here is an odd number\n",
      "2 Here is an even number\n",
      "3 Here is an odd number\n",
      "4 Here is an even number\n",
      "5 Here is an odd number\n",
      "6 Here is an even number\n",
      "7 Here is an odd number\n",
      "8 Here is an even number\n",
      "9 Here is an odd number\n",
      "10 Here is an even number\n",
      "11 Here is an odd number\n",
      "12 Here is an even number\n",
      "13 Here is an odd number\n",
      "14 Here is an even number\n",
      "15 Here is an odd number\n",
      "16 Here is an even number\n",
      "17 Here is an odd number\n",
      "18 Here is an even number\n",
      "19 Here is an odd number\n",
      "20 Here is an even number\n"
     ]
    }
   ],
   "source": [
    "for num in range(1,21):\n",
    "    if num % 2 == 0:\n",
    "        print(num, 'Here is an even number')\n",
    "    else:\n",
    "        print(num, 'Here is an odd number')"
   ]
  },
  {
   "cell_type": "code",
   "execution_count": 14,
   "metadata": {},
   "outputs": [],
   "source": [
    "# output in a list\n",
    "l = []\n",
    "for num in range(1,21):\n",
    "    if num % 2 == 0:\n",
    "        l.append(num)"
   ]
  },
  {
   "cell_type": "code",
   "execution_count": 15,
   "metadata": {},
   "outputs": [
    {
     "data": {
      "text/plain": [
       "[2, 4, 6, 8, 10, 12, 14, 16, 18, 20]"
      ]
     },
     "execution_count": 15,
     "metadata": {},
     "output_type": "execute_result"
    }
   ],
   "source": [
    "l"
   ]
  },
  {
   "cell_type": "code",
   "execution_count": 16,
   "metadata": {},
   "outputs": [
    {
     "data": {
      "text/plain": [
       "[2, 4, 6, 8, 10, 12, 14, 16, 18, 20]"
      ]
     },
     "execution_count": 16,
     "metadata": {},
     "output_type": "execute_result"
    }
   ],
   "source": [
    "# list comprehension\n",
    "\n",
    "[num for num in range(1,21) if num % 2 == 0]"
   ]
  },
  {
   "cell_type": "markdown",
   "metadata": {},
   "source": [
    "### While\n",
    "The while loop will execute it's body until the condition evaluates to false."
   ]
  },
  {
   "cell_type": "code",
   "execution_count": 17,
   "metadata": {},
   "outputs": [],
   "source": [
    "# While (some condition is True):\n",
    "    # Keep doing this\n",
    "    # re-evaluate"
   ]
  },
  {
   "cell_type": "code",
   "execution_count": 18,
   "metadata": {},
   "outputs": [
    {
     "name": "stdout",
     "output_type": "stream",
     "text": [
      "1\n",
      "2\n",
      "3\n",
      "4\n",
      "5\n",
      "6\n",
      "7\n",
      "8\n",
      "9\n"
     ]
    }
   ],
   "source": [
    "i = 1\n",
    "\n",
    "while i < 10:\n",
    "    print(i)\n",
    "    i = i + 1"
   ]
  },
  {
   "cell_type": "code",
   "execution_count": 20,
   "metadata": {},
   "outputs": [
    {
     "name": "stdout",
     "output_type": "stream",
     "text": [
      "Please proceed\n"
     ]
    }
   ],
   "source": [
    "stored_password = 'password1234'\n",
    "user_input = input('Please input your password')\n",
    "\n",
    "# While (if password is incorrect):\n",
    "    # keep prompting use for the password\n",
    "\n",
    "while stored_password != user_input:\n",
    "    print('The password is incorrect')\n",
    "    user_input = input('Please input your password')\n",
    "\n",
    "print('Please proceed')\n"
   ]
  },
  {
   "cell_type": "markdown",
   "metadata": {},
   "source": [
    "## Break\n",
    "\n",
    "- `break` will stop executing the loop entirely"
   ]
  },
  {
   "cell_type": "code",
   "execution_count": 23,
   "metadata": {},
   "outputs": [
    {
     "name": "stdout",
     "output_type": "stream",
     "text": [
      "2 even number\n",
      "4 even number\n",
      "6 even number\n"
     ]
    }
   ],
   "source": [
    "for num in range(1, 11):\n",
    "    if num > 7:\n",
    "        break\n",
    "    if num % 2 == 0:\n",
    "        print(num, \"even number\")"
   ]
  },
  {
   "cell_type": "code",
   "execution_count": 25,
   "metadata": {},
   "outputs": [
    {
     "name": "stdout",
     "output_type": "stream",
     "text": [
      "1 Here is your candy!\n",
      "2 Here is your candy!\n",
      "3 Here is your candy!\n",
      "4 Here is your candy!\n",
      "5 Here is your candy!\n",
      "Sorry, Out of Candies!\n"
     ]
    }
   ],
   "source": [
    "user_input = 8\n",
    "i = 1\n",
    "available_candies = 5\n",
    "\n",
    "while i <= user_input:\n",
    "    if i > available_candies:\n",
    "        print('Sorry, Out of Candies!')\n",
    "        break\n",
    "    print(i,'Here is your candy!')\n",
    "    i = i + 1"
   ]
  },
  {
   "cell_type": "markdown",
   "metadata": {},
   "source": [
    "### Continue\n",
    "- `continue` will skip to the next iteration of a loop"
   ]
  },
  {
   "cell_type": "code",
   "execution_count": 26,
   "metadata": {},
   "outputs": [
    {
     "name": "stdout",
     "output_type": "stream",
     "text": [
      "1 Here is an odd number\n",
      "3 Here is an odd number\n",
      "5 Here is an odd number\n",
      "7 Here is an odd number\n",
      "9 Here is an odd number\n"
     ]
    }
   ],
   "source": [
    "for num in range(1, 11):\n",
    "    if num % 2 == 0:\n",
    "        continue\n",
    "    else:\n",
    "        print(num, 'Here is an odd number')"
   ]
  }
 ],
 "metadata": {
  "interpreter": {
   "hash": "3067ead486e059ec00ffe7555bdb889e6e264a24dc711bf108106cc7baee8d5d"
  },
  "kernelspec": {
   "display_name": "Python 3.9.12 ('base')",
   "language": "python",
   "name": "python3"
  },
  "language_info": {
   "codemirror_mode": {
    "name": "ipython",
    "version": 3
   },
   "file_extension": ".py",
   "mimetype": "text/x-python",
   "name": "python",
   "nbconvert_exporter": "python",
   "pygments_lexer": "ipython3",
   "version": "3.9.12"
  },
  "orig_nbformat": 4
 },
 "nbformat": 4,
 "nbformat_minor": 2
}
